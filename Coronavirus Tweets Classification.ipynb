{
 "cells": [
  {
   "cell_type": "code",
   "execution_count": 28,
   "metadata": {},
   "outputs": [
    {
     "data": {
      "text/plain": [
       "'2.13.0'"
      ]
     },
     "execution_count": 28,
     "metadata": {},
     "output_type": "execute_result"
    }
   ],
   "source": [
    "import tensorflow as tf\n",
    "import os\n",
    "import zipfile\n",
    "import pandas as pd\n",
    "import numpy as np\n",
    "tf.__version__"
   ]
  },
  {
   "cell_type": "code",
   "execution_count": 29,
   "metadata": {},
   "outputs": [
    {
     "name": "stdout",
     "output_type": "stream",
     "text": [
      "Downloading covid-19-nlp-text-classification.zip to Datasets_Collection/Coronavirus_Tweets_Classification\n",
      "\n"
     ]
    },
    {
     "name": "stderr",
     "output_type": "stream",
     "text": [
      "\n",
      "  0%|          | 0.00/4.38M [00:00<?, ?B/s]\n",
      " 23%|██▎       | 1.00M/4.38M [00:01<00:05, 644kB/s]\n",
      " 46%|████▌     | 2.00M/4.38M [00:01<00:02, 1.18MB/s]\n",
      " 68%|██████▊   | 3.00M/4.38M [00:02<00:00, 1.66MB/s]\n",
      " 91%|█████████▏| 4.00M/4.38M [00:02<00:00, 2.12MB/s]\n",
      "100%|██████████| 4.38M/4.38M [00:02<00:00, 1.72MB/s]\n"
     ]
    }
   ],
   "source": [
    "!kaggle datasets download -d datatattle/covid-19-nlp-text-classification -p Datasets_Collection/Coronavirus_Tweets_Classification"
   ]
  },
  {
   "cell_type": "code",
   "execution_count": 30,
   "metadata": {},
   "outputs": [],
   "source": [
    "dataset_dir = os.path.join(os.getcwd(), \"Datasets_Collection\", \"Coronavirus_Tweets_Classification\")"
   ]
  },
  {
   "cell_type": "code",
   "execution_count": 31,
   "metadata": {},
   "outputs": [],
   "source": [
    "zip_found = False\n",
    "for filename in os.listdir(dataset_dir):\n",
    "    if filename.endswith(\".zip\"):\n",
    "        dataset_zip_name = filename\n",
    "        zip_found = True\n",
    "        break\n",
    "\n",
    "if not zip_found:\n",
    "    raise FileNotFoundError()"
   ]
  },
  {
   "cell_type": "code",
   "execution_count": 32,
   "metadata": {},
   "outputs": [],
   "source": [
    "with zipfile.ZipFile(os.path.join(dataset_dir, dataset_zip_name), 'r') as zip_ref:\n",
    "    zip_ref.extractall(dataset_dir)"
   ]
  },
  {
   "cell_type": "code",
   "execution_count": 34,
   "metadata": {},
   "outputs": [],
   "source": [
    "train_df = pd.read_csv(os.path.join(dataset_dir, \"Corona_NLP_train.csv\"), encoding = \"ISO-8859-1\")\n",
    "test_df = pd.read_csv(os.path.join(dataset_dir, \"Corona_NLP_test.csv\"), encoding = \"ISO-8859-1\")"
   ]
  },
  {
   "cell_type": "code",
   "execution_count": 35,
   "metadata": {},
   "outputs": [
    {
     "name": "stdout",
     "output_type": "stream",
     "text": [
      "       UserName  ScreenName                      Location     TweetAt  \\\n",
      "0          3799       48751                        London  16-03-2020   \n",
      "1          3800       48752                            UK  16-03-2020   \n",
      "2          3801       48753                     Vagabonds  16-03-2020   \n",
      "3          3802       48754                           NaN  16-03-2020   \n",
      "4          3803       48755                           NaN  16-03-2020   \n",
      "...         ...         ...                           ...         ...   \n",
      "41152     44951       89903  Wellington City, New Zealand  14-04-2020   \n",
      "41153     44952       89904                           NaN  14-04-2020   \n",
      "41154     44953       89905                           NaN  14-04-2020   \n",
      "41155     44954       89906                           NaN  14-04-2020   \n",
      "41156     44955       89907  i love you so much || he/him  14-04-2020   \n",
      "\n",
      "                                           OriginalTweet           Sentiment  \n",
      "0      @MeNyrbie @Phil_Gahan @Chrisitv https://t.co/i...             Neutral  \n",
      "1      advice Talk to your neighbours family to excha...            Positive  \n",
      "2      Coronavirus Australia: Woolworths to give elde...            Positive  \n",
      "3      My food stock is not the only one which is emp...            Positive  \n",
      "4      Me, ready to go at supermarket during the #COV...  Extremely Negative  \n",
      "...                                                  ...                 ...  \n",
      "41152  Airline pilots offering to stock supermarket s...             Neutral  \n",
      "41153  Response to complaint not provided citing COVI...  Extremely Negative  \n",
      "41154  You know itÂs getting tough when @KameronWild...            Positive  \n",
      "41155  Is it wrong that the smell of hand sanitizer i...             Neutral  \n",
      "41156  @TartiiCat Well new/used Rift S are going for ...            Negative  \n",
      "\n",
      "[41157 rows x 6 columns]\n"
     ]
    }
   ],
   "source": [
    "print(train_df)"
   ]
  }
 ],
 "metadata": {
  "kernelspec": {
   "display_name": ".venv",
   "language": "python",
   "name": "python3"
  },
  "language_info": {
   "codemirror_mode": {
    "name": "ipython",
    "version": 3
   },
   "file_extension": ".py",
   "mimetype": "text/x-python",
   "name": "python",
   "nbconvert_exporter": "python",
   "pygments_lexer": "ipython3",
   "version": "3.11.4"
  },
  "orig_nbformat": 4
 },
 "nbformat": 4,
 "nbformat_minor": 2
}
